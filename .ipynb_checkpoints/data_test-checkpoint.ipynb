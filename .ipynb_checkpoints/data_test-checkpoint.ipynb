{
 "cells": [
  {
   "cell_type": "code",
   "execution_count": 1,
   "metadata": {},
   "outputs": [],
   "source": [
    "import numpy as np\n",
    "import scipy\n",
    "import tensorflow as tf\n",
    "import itertools\n",
    "from scipy.spatial import ConvexHull"
   ]
  },
  {
   "cell_type": "code",
   "execution_count": 2,
   "metadata": {},
   "outputs": [
    {
     "data": {
      "text/plain": [
       "'2.0.0-alpha0'"
      ]
     },
     "execution_count": 2,
     "metadata": {},
     "output_type": "execute_result"
    }
   ],
   "source": [
    "tf.__version__"
   ]
  },
  {
   "cell_type": "code",
   "execution_count": 3,
   "metadata": {},
   "outputs": [],
   "source": [
    "max_seq_len = 10\n",
    "def convex_hull():\n",
    "        for i in range(1000):\n",
    "            points = np.random.rand(max_seq_len, 2)\n",
    "            hull_indices = ConvexHull(points=points)\n",
    "            target_indices = hull_indices.vertices\n",
    "            targets = points[target_indices]\n",
    "\n",
    "            points = tf.convert_to_tensor([points])\n",
    "            points = tf.squeeze(points, axis=0)\n",
    "\n",
    "            targets = tf.convert_to_tensor(targets)\n",
    "            target_indices = tf.convert_to_tensor(target_indices)\n",
    "\n",
    "            targets = tf.pad(targets, tf.constant([[0,max_seq_len-targets.shape[0]], [0,0]]), constant_values=-1)\n",
    "            target_indices = tf.pad(target_indices, tf.constant([[0,max_seq_len-target_indices.shape[0]]]), constant_values=-1)\n",
    "\n",
    "\n",
    "            targets = tf.convert_to_tensor(targets)\n",
    "            target_indices = tf.convert_to_tensor(target_indices)\n",
    "\n",
    "            yield points, targets, target_indices"
   ]
  },
  {
   "cell_type": "code",
   "execution_count": 45,
   "metadata": {},
   "outputs": [
    {
     "name": "stderr",
     "output_type": "stream",
     "text": [
      "WARNING: Logging before flag parsing goes to stderr.\n",
      "W0309 11:09:19.056292 139632412829504 deprecation.py:323] From /home/neo/tf2/lib/python3.6/site-packages/tensorflow/python/data/ops/dataset_ops.py:410: py_func (from tensorflow.python.ops.script_ops) is deprecated and will be removed in a future version.\n",
      "Instructions for updating:\n",
      "tf.py_func is deprecated in TF V2. Instead, there are two\n",
      "    options available in V2.\n",
      "    - tf.py_function takes a python function which manipulates tf eager\n",
      "    tensors instead of numpy arrays. It's easy to convert a tf eager tensor to\n",
      "    an ndarray (just call tensor.numpy()) but having access to eager tensors\n",
      "    means `tf.py_function`s can use accelerators such as GPUs as well as\n",
      "    being differentiable using a gradient tape.\n",
      "    - tf.numpy_function maintains the semantics of the deprecated tf.py_func\n",
      "    (it is not differentiable, and manipulates numpy arrays). It drops the\n",
      "    stateful argument making all functions stateful.\n",
      "    \n"
     ]
    }
   ],
   "source": [
    "ds = tf.data.Dataset.from_generator(convex_hull, (tf.float32, tf.float32, tf.int16))"
   ]
  },
  {
   "cell_type": "code",
   "execution_count": 46,
   "metadata": {},
   "outputs": [],
   "source": [
    "ds = ds.batch(batch_size=10)\n",
    "ds = ds.repeat(count=10)\n",
    "ds = ds.shuffle(buffer_size=10)"
   ]
  },
  {
   "cell_type": "code",
   "execution_count": 47,
   "metadata": {},
   "outputs": [
    {
     "name": "stderr",
     "output_type": "stream",
     "text": [
      "W0309 11:09:20.319086 139632412829504 deprecation.py:323] From <ipython-input-47-911f2cbcabee>:1: DatasetV1.make_one_shot_iterator (from tensorflow.python.data.ops.dataset_ops) is deprecated and will be removed in a future version.\n",
      "Instructions for updating:\n",
      "Use `for ... in dataset:` to iterate over a dataset. If using `tf.estimator`, return the `Dataset` object directly from your input function. As a last resort, you can use `tf.compat.v1.data.make_one_shot_iterator(dataset)`.\n"
     ]
    }
   ],
   "source": [
    "iterator = ds.make_one_shot_iterator()"
   ]
  }
 ],
 "metadata": {
  "kernelspec": {
   "display_name": "TensorFlow 2.0",
   "language": "python",
   "name": "tf2"
  },
  "language_info": {
   "codemirror_mode": {
    "name": "ipython",
    "version": 3
   },
   "file_extension": ".py",
   "mimetype": "text/x-python",
   "name": "python",
   "nbconvert_exporter": "python",
   "pygments_lexer": "ipython3",
   "version": "3.6.4"
  }
 },
 "nbformat": 4,
 "nbformat_minor": 2
}
