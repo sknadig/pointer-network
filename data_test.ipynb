{
 "cells": [
  {
   "cell_type": "code",
   "execution_count": 1,
   "metadata": {},
   "outputs": [],
   "source": [
    "import numpy as np\n",
    "import scipy\n",
    "from scipy.spatial import ConvexHull\n",
    "import tensorflow as tf\n",
    "import itertools"
   ]
  },
  {
   "cell_type": "code",
   "execution_count": 2,
   "metadata": {},
   "outputs": [
    {
     "data": {
      "text/plain": [
       "'2.0.0-alpha0'"
      ]
     },
     "execution_count": 2,
     "metadata": {},
     "output_type": "execute_result"
    }
   ],
   "source": [
    "tf.__version__"
   ]
  },
  {
   "cell_type": "code",
   "execution_count": 3,
   "metadata": {},
   "outputs": [],
   "source": [
    "max_seq_len = 10"
   ]
  },
  {
   "cell_type": "code",
   "execution_count": 8,
   "metadata": {},
   "outputs": [],
   "source": [
    "def convex_hull():\n",
    "        for i in range(1000):\n",
    "            points = np.random.rand(max_seq_len, 2)\n",
    "            hull_indices = ConvexHull(points=points)\n",
    "            target_indices = hull_indices.vertices\n",
    "            targets = points[target_indices]\n",
    "\n",
    "            points = tf.convert_to_tensor([points])\n",
    "            points = tf.squeeze(points, axis=0)\n",
    "\n",
    "            targets = tf.convert_to_tensor(targets)\n",
    "            target_indices = tf.convert_to_tensor(target_indices)\n",
    "\n",
    "            targets = tf.pad(targets, tf.constant([[0,max_seq_len-targets.shape[0]], [0,0]]), constant_values=-1)\n",
    "            target_indices = tf.pad(target_indices, tf.constant([[0,max_seq_len-target_indices.shape[0]]]), constant_values=-1)\n",
    "\n",
    "\n",
    "            targets = tf.convert_to_tensor(targets)\n",
    "            target_indices = tf.convert_to_tensor(target_indices)\n",
    "\n",
    "            yield points, targets, target_indices"
   ]
  },
  {
   "cell_type": "code",
   "execution_count": 9,
   "metadata": {},
   "outputs": [],
   "source": [
    "ds = tf.data.Dataset.from_generator(convex_hull, (tf.float32, tf.float32, tf.int16))"
   ]
  },
  {
   "cell_type": "code",
   "execution_count": 10,
   "metadata": {},
   "outputs": [],
   "source": [
    "ds = ds.batch(batch_size=10)\n",
    "ds = ds.repeat(count=10)\n",
    "ds = ds.shuffle(buffer_size=10)"
   ]
  }
 ],
 "metadata": {
  "kernelspec": {
   "display_name": "TensorFlow 2.0",
   "language": "python",
   "name": "tf2"
  },
  "language_info": {
   "codemirror_mode": {
    "name": "ipython",
    "version": 3
   },
   "file_extension": ".py",
   "mimetype": "text/x-python",
   "name": "python",
   "nbconvert_exporter": "python",
   "pygments_lexer": "ipython3",
   "version": "3.6.4"
  }
 },
 "nbformat": 4,
 "nbformat_minor": 2
}
