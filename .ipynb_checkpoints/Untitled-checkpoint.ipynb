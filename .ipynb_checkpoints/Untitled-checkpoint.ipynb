{
 "cells": [
  {
   "cell_type": "code",
   "execution_count": 1,
   "metadata": {},
   "outputs": [],
   "source": [
    "import numpy as np\n",
    "import scipy\n",
    "import tensorflow as tf\n",
    "import itertools\n",
    "from scipy.spatial import ConvexHull"
   ]
  },
  {
   "cell_type": "code",
   "execution_count": 2,
   "metadata": {},
   "outputs": [],
   "source": [
    "max_seq_len = 17\n",
    "def convex_hull():\n",
    "    for i in range(1000):\n",
    "        points = np.random.rand(max_seq_len, 2)\n",
    "        hull_indices = ConvexHull(points=points)\n",
    "        target_indices = hull_indices.vertices\n",
    "        targets = points[target_indices]\n",
    "\n",
    "        points = tf.convert_to_tensor([points])\n",
    "        points = tf.squeeze(points, axis=0)\n",
    "\n",
    "        targets = tf.convert_to_tensor(targets)\n",
    "        target_indices = tf.convert_to_tensor(target_indices)\n",
    "\n",
    "        targets = tf.pad(targets, tf.constant([[0,max_seq_len-targets.shape[0]], [0,0]]), constant_values=-1)\n",
    "        target_indices = tf.pad(target_indices, tf.constant([[0,max_seq_len-target_indices.shape[0]]]), constant_values=-1)\n",
    "\n",
    "\n",
    "        targets = tf.convert_to_tensor(targets)\n",
    "        target_indices = tf.convert_to_tensor(target_indices)\n",
    "\n",
    "        yield points, targets, target_indices"
   ]
  },
  {
   "cell_type": "code",
   "execution_count": 3,
   "metadata": {},
   "outputs": [
    {
     "name": "stderr",
     "output_type": "stream",
     "text": [
      "WARNING: Logging before flag parsing goes to stderr.\n",
      "W0311 01:22:48.728273 140133138442048 deprecation.py:323] From /home/neo/tf2/lib/python3.6/site-packages/tensorflow/python/data/ops/dataset_ops.py:410: py_func (from tensorflow.python.ops.script_ops) is deprecated and will be removed in a future version.\n",
      "Instructions for updating:\n",
      "tf.py_func is deprecated in TF V2. Instead, there are two\n",
      "    options available in V2.\n",
      "    - tf.py_function takes a python function which manipulates tf eager\n",
      "    tensors instead of numpy arrays. It's easy to convert a tf eager tensor to\n",
      "    an ndarray (just call tensor.numpy()) but having access to eager tensors\n",
      "    means `tf.py_function`s can use accelerators such as GPUs as well as\n",
      "    being differentiable using a gradient tape.\n",
      "    - tf.numpy_function maintains the semantics of the deprecated tf.py_func\n",
      "    (it is not differentiable, and manipulates numpy arrays). It drops the\n",
      "    stateful argument making all functions stateful.\n",
      "    \n",
      "W0311 01:22:48.750228 140133138442048 deprecation.py:323] From <ipython-input-3-70cc55e6b6ef>:5: DatasetV1.make_one_shot_iterator (from tensorflow.python.data.ops.dataset_ops) is deprecated and will be removed in a future version.\n",
      "Instructions for updating:\n",
      "Use `for ... in dataset:` to iterate over a dataset. If using `tf.estimator`, return the `Dataset` object directly from your input function. As a last resort, you can use `tf.compat.v1.data.make_one_shot_iterator(dataset)`.\n"
     ]
    }
   ],
   "source": [
    "ds = tf.data.Dataset.from_generator(convex_hull, (tf.float32, tf.float32, tf.int16))\n",
    "ds = ds.batch(batch_size=10)\n",
    "ds = ds.repeat(count=10)\n",
    "ds = ds.shuffle(buffer_size=10)\n",
    "it = ds.make_one_shot_iterator()"
   ]
  },
  {
   "cell_type": "code",
   "execution_count": 4,
   "metadata": {},
   "outputs": [],
   "source": [
    "class BahdanauAttention(tf.keras.Model):\n",
    "  def __init__(self, units):\n",
    "    super(BahdanauAttention, self).__init__()\n",
    "    self.W1 = tf.keras.layers.Dense(units)\n",
    "    self.W2 = tf.keras.layers.Dense(units)\n",
    "    self.V = tf.keras.layers.Dense(1)\n",
    "  \n",
    "  def call(self, query, values):\n",
    "    # hidden shape == (batch_size, hidden size)\n",
    "    # hidden_with_time_axis shape == (batch_size, 1, hidden size)\n",
    "    # we are doing this to perform addition to calculate the score\n",
    "    hidden_with_time_axis = tf.expand_dims(query, 1)\n",
    "\n",
    "    # score shape == (batch_size, max_length, hidden_size)\n",
    "    score = self.V(tf.nn.tanh(\n",
    "        self.W1(values) + self.W2(hidden_with_time_axis)))\n",
    "\n",
    "    # attention_weights shape == (batch_size, max_length, 1)\n",
    "    # we get 1 at the last axis because we are applying score to self.V\n",
    "    attention_weights = tf.nn.softmax(score, axis=1)\n",
    "\n",
    "    # context_vector shape after sum == (batch_size, hidden_size)\n",
    "    context_vector = attention_weights * values\n",
    "    context_vector = tf.reduce_sum(context_vector, axis=1)\n",
    "    \n",
    "    return attention_weights"
   ]
  },
  {
   "cell_type": "code",
   "execution_count": 5,
   "metadata": {},
   "outputs": [],
   "source": [
    "class Encoder(tf.keras.Model):\n",
    "    def __init__(self, units, **kwargs):\n",
    "        super(Encoder, self).__init__(**kwargs)\n",
    "        self.units = units\n",
    "        self.state_size = units\n",
    "        \n",
    "        self.W1 = tf.keras.layers.Dense(10)\n",
    "        self.W2 = tf.keras.layers.Dense(10)\n",
    "        self.V = tf.keras.layers.Dense(10)\n",
    "        \n",
    "        self.enc_cell = tf.keras.layers.LSTMCell(10)\n",
    "        self.enc_rnn = tf.keras.layers.RNN(lstm_cell, return_sequences=False, return_state=True)\n",
    "    \n",
    "    def call(self, inputs):\n",
    "        encoded_inputs, hidden_states = self.rnn_cell(inputs)\n",
    "        \n",
    "        "
   ]
  },
  {
   "cell_type": "code",
   "execution_count": 6,
   "metadata": {},
   "outputs": [],
   "source": [
    "points, targets, target_indices = it.get_next()"
   ]
  },
  {
   "cell_type": "code",
   "execution_count": 7,
   "metadata": {},
   "outputs": [],
   "source": [
    "lstm_cell = tf.keras.layers.LSTMCell(10)\n",
    "rnn = tf.keras.layers.RNN(lstm_cell, return_sequences=True, return_state=False)"
   ]
  },
  {
   "cell_type": "code",
   "execution_count": 8,
   "metadata": {},
   "outputs": [],
   "source": [
    "enc_out = rnn(points)"
   ]
  },
  {
   "cell_type": "code",
   "execution_count": 9,
   "metadata": {},
   "outputs": [],
   "source": [
    "ba = BahdanauAttention(16)"
   ]
  },
  {
   "cell_type": "code",
   "execution_count": 28,
   "metadata": {},
   "outputs": [],
   "source": [
    "dec_rnn_cell = tf.keras.layers.SimpleRNNCell(21)"
   ]
  },
  {
   "cell_type": "code",
   "execution_count": 33,
   "metadata": {},
   "outputs": [],
   "source": [
    "dec_rnn_cell_init_states = dec_rnn_cell.get_initial_state(tf.random.uniform((10,17)), batch_size=10)"
   ]
  },
  {
   "cell_type": "code",
   "execution_count": 34,
   "metadata": {},
   "outputs": [
    {
     "data": {
      "text/plain": [
       "(TensorShape([10, 17, 10]), TensorShape([10, 21]))"
      ]
     },
     "execution_count": 34,
     "metadata": {},
     "output_type": "execute_result"
    }
   ],
   "source": [
    "enc_out.shape, dec_rnn_cell_init_states.shape"
   ]
  },
  {
   "cell_type": "code",
   "execution_count": 35,
   "metadata": {},
   "outputs": [
    {
     "data": {
      "text/plain": [
       "TensorShape([10, 10])"
      ]
     },
     "execution_count": 35,
     "metadata": {},
     "output_type": "execute_result"
    }
   ],
   "source": [
    "enc_out[:][:][:,0].shape"
   ]
  },
  {
   "cell_type": "code",
   "execution_count": 36,
   "metadata": {},
   "outputs": [],
   "source": [
    "dec_out = dec_rnn_cell(tf.random.uniform((10,17)), (dec_rnn_cell_init_states, dec_rnn_cell_init_states))"
   ]
  },
  {
   "cell_type": "code",
   "execution_count": null,
   "metadata": {},
   "outputs": [],
   "source": [
    "dec_out[0].shape"
   ]
  },
  {
   "cell_type": "code",
   "execution_count": null,
   "metadata": {},
   "outputs": [],
   "source": [
    "enc_out[:][:][:,0].shape"
   ]
  },
  {
   "cell_type": "code",
   "execution_count": null,
   "metadata": {},
   "outputs": [],
   "source": [
    "tf.expand_dims(dec_out[0], 1).shape"
   ]
  },
  {
   "cell_type": "code",
   "execution_count": 44,
   "metadata": {},
   "outputs": [
    {
     "data": {
      "text/plain": [
       "<tf.Tensor: id=4058, shape=(10, 10, 1), dtype=float32, numpy=\n",
       "array([[[0.09969918],\n",
       "        [0.09807783],\n",
       "        [0.09778482],\n",
       "        [0.10046008],\n",
       "        [0.10024379],\n",
       "        [0.10053027],\n",
       "        [0.10163622],\n",
       "        [0.09907845],\n",
       "        [0.10313857],\n",
       "        [0.09935079]],\n",
       "\n",
       "       [[0.10047878],\n",
       "        [0.09837357],\n",
       "        [0.09848084],\n",
       "        [0.09991606],\n",
       "        [0.10033903],\n",
       "        [0.09973856],\n",
       "        [0.10217468],\n",
       "        [0.09937445],\n",
       "        [0.10159783],\n",
       "        [0.09952617]],\n",
       "\n",
       "       [[0.10029551],\n",
       "        [0.09813629],\n",
       "        [0.09812994],\n",
       "        [0.10006393],\n",
       "        [0.10035398],\n",
       "        [0.09993017],\n",
       "        [0.10224583],\n",
       "        [0.09923301],\n",
       "        [0.10217582],\n",
       "        [0.09943552]],\n",
       "\n",
       "       [[0.10025253],\n",
       "        [0.09827533],\n",
       "        [0.09825557],\n",
       "        [0.10007851],\n",
       "        [0.10031342],\n",
       "        [0.09997585],\n",
       "        [0.1020503 ],\n",
       "        [0.09928054],\n",
       "        [0.10204782],\n",
       "        [0.09947015]],\n",
       "\n",
       "       [[0.10026126],\n",
       "        [0.09812208],\n",
       "        [0.09809389],\n",
       "        [0.10009611],\n",
       "        [0.10035489],\n",
       "        [0.09997334],\n",
       "        [0.10221239],\n",
       "        [0.09922481],\n",
       "        [0.1022274 ],\n",
       "        [0.0994339 ]],\n",
       "\n",
       "       [[0.10054341],\n",
       "        [0.09844391],\n",
       "        [0.09859221],\n",
       "        [0.09985634],\n",
       "        [0.10035449],\n",
       "        [0.09963917],\n",
       "        [0.10217968],\n",
       "        [0.09942682],\n",
       "        [0.10140102],\n",
       "        [0.09956296]],\n",
       "\n",
       "       [[0.10013685],\n",
       "        [0.09822147],\n",
       "        [0.09816276],\n",
       "        [0.10014558],\n",
       "        [0.10031212],\n",
       "        [0.10005561],\n",
       "        [0.10196151],\n",
       "        [0.09924057],\n",
       "        [0.10231654],\n",
       "        [0.09944698]],\n",
       "\n",
       "       [[0.10011681],\n",
       "        [0.09813983],\n",
       "        [0.098065  ],\n",
       "        [0.10017217],\n",
       "        [0.10032168],\n",
       "        [0.10008891],\n",
       "        [0.10202041],\n",
       "        [0.09920047],\n",
       "        [0.10245529],\n",
       "        [0.09941944]],\n",
       "\n",
       "       [[0.10038759],\n",
       "        [0.09836922],\n",
       "        [0.09842612],\n",
       "        [0.09997998],\n",
       "        [0.10034387],\n",
       "        [0.09981383],\n",
       "        [0.10207962],\n",
       "        [0.09936733],\n",
       "        [0.10170085],\n",
       "        [0.09953158]],\n",
       "\n",
       "       [[0.10000689],\n",
       "        [0.09799308],\n",
       "        [0.09784694],\n",
       "        [0.10026424],\n",
       "        [0.10031572],\n",
       "        [0.10022463],\n",
       "        [0.10206771],\n",
       "        [0.09910472],\n",
       "        [0.10282204],\n",
       "        [0.09935401]]], dtype=float32)>"
      ]
     },
     "execution_count": 44,
     "metadata": {},
     "output_type": "execute_result"
    }
   ],
   "source": [
    "ba(dec_out[0], enc_out[:][:][:,0])"
   ]
  }
 ],
 "metadata": {
  "kernelspec": {
   "display_name": "TensorFlow 2.0",
   "language": "python",
   "name": "tf2"
  },
  "language_info": {
   "codemirror_mode": {
    "name": "ipython",
    "version": 3
   },
   "file_extension": ".py",
   "mimetype": "text/x-python",
   "name": "python",
   "nbconvert_exporter": "python",
   "pygments_lexer": "ipython3",
   "version": "3.6.4"
  }
 },
 "nbformat": 4,
 "nbformat_minor": 2
}
